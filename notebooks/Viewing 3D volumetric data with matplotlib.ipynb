{
 "cells": [
  {
   "cell_type": "markdown",
   "metadata": {
    "deletable": true,
    "editable": true
   },
   "source": [
    "# Viewing 3D volumetric data with matplotlib"
   ]
  },
  {
   "cell_type": "markdown",
   "metadata": {
    "deletable": true,
    "editable": true
   },
   "source": [
    "Most of you are familiar with image data, taken with ordinary cameras (these are often called \"natural images\" in the scientific literature), but also with specialized instruments, such as microscopes or telescopes. When working with images in Python, the most common way to display them is using the imshow function of Matplotlib, Python's most popular plotting library.\n",
    "\n",
    "In this tutorial, we'll show you how to extend this function to display 3D volumetric data, which you can think of as a stack of images. Together, they describe a 3D structure. For example, magnetic resonance imaging (MRI) and computed tomography (CT) scans measure the 3D structure inside the human body; X-ray microtomography measures the 3D structure inside materials such as glass, or metal alloys; and light-sheet microscopes measure fluorescent particles inside biological tissues. \n",
    "\n",
    "We'll demonstrate how to download an MRI dataset and display the slices using `matplotlib`. But first, let's go over some basics: how to display images with Matplotlib's `imshow`:\n",
    "\n",
    "We'll start by enabling the interactive matplotlib mode in the notebook:"
   ]
  },
  {
   "cell_type": "code",
   "execution_count": null,
   "metadata": {
    "collapsed": false,
    "deletable": true,
    "editable": true
   },
   "outputs": [],
   "source": [
    "%matplotlib notebook"
   ]
  },
  {
   "cell_type": "markdown",
   "metadata": {
    "deletable": true,
    "editable": true
   },
   "source": [
    "Now, we can import matplotlib and display some image data:"
   ]
  },
  {
   "cell_type": "code",
   "execution_count": null,
   "metadata": {
    "collapsed": true,
    "deletable": true,
    "editable": true
   },
   "outputs": [],
   "source": [
    "from skimage import data"
   ]
  },
  {
   "cell_type": "markdown",
   "metadata": {},
   "source": [
    "Now we can import `matplotlib` and display some data. We'll load some example data that is included in the data module of the scikit-image library:"
   ]
  },
  {
   "cell_type": "code",
   "execution_count": null,
   "metadata": {
    "collapsed": true
   },
   "outputs": [],
   "source": [
    "astronaut = data.astronaut()\n",
    "ihc = data.immunohistochemistry()\n",
    "hubble = data.hubble_deep_field()"
   ]
  },
  {
   "cell_type": "code",
   "execution_count": null,
   "metadata": {
    "collapsed": false,
    "deletable": true,
    "editable": true
   },
   "outputs": [],
   "source": [
    "# Initialize the subplot panels side by side\n",
    "fig, ax = plt.subplots(nrows=1, ncols=3)\n",
    "\n",
    "# Show an image in each subplot\n",
    "ax[0].imshow(astronaut)\n",
    "ax[0].set_title('Natural image')\n",
    "ax[1].imshow(ihc)\n",
    "ax[1].set_title('Microscopy image')\n",
    "ax[2].imshow(hubble)\n",
    "ax[2].set_title('Telescope image');"
   ]
  },
  {
   "cell_type": "markdown",
   "metadata": {
    "deletable": true,
    "editable": true
   },
   "source": [
    "**Note:** When you run matplotlib in the interactive notebook mode, the open figure remains the *only* active figure until you disable it, using the power symbol on the top-right of the figure. Be sure you do that before moving on from each plot."
   ]
  },
  {
   "cell_type": "markdown",
   "metadata": {
    "deletable": true,
    "editable": true
   },
   "source": [
    "These images are called 2-dimensional or 2D images because they are laid out along 2 dimensions: x and y, or, in NumPy parlance, rows and columns or r and c.\n",
    "\n",
    "Some images are 3D, in that they have an additional *depth* dimension (z, or planes). These include magnetic resonance imaging (MRI) and *serial section transmission electron microscopy* (ssTEM), in which a sample is thinly sliced, like a salami, and each of the slices is imaged separately.\n",
    "\n",
    "To view such images in matplotlib, we have to choose a slice, and display only that slice. Let's try it out on some freely available MRI data online.\n",
    "\n",
    "## Interlude: getting the data...\n",
    "\n",
    "We're going to download a dataset described in Buchel and Friston, *Cortical Interactions Evaluated with Structural Equation \n",
    "Modelling and fMRI* (1997). First, we create a temporary directory in which to download the data. We must remember to delete it when we are done with our analysis! If you want to keep this dataset for later use, change `d` to a more permanent directory location of your choice."
   ]
  },
  {
   "cell_type": "code",
   "execution_count": null,
   "metadata": {
    "collapsed": true,
    "deletable": true,
    "editable": true
   },
   "outputs": [],
   "source": [
    "import tempfile\n",
    "\n",
    "# Create a temporary directory\n",
    "d = tempfile.mkdtemp()"
   ]
  },
  {
   "cell_type": "markdown",
   "metadata": {
    "deletable": true,
    "editable": true
   },
   "source": [
    "Now, let's download the data:"
   ]
  },
  {
   "cell_type": "code",
   "execution_count": null,
   "metadata": {
    "collapsed": false,
    "deletable": true,
    "editable": true
   },
   "outputs": [],
   "source": [
    "import os\n",
    "\n",
    "# Return the tail of the path\n",
    "os.path.basename('http://google.com/attention.zip')"
   ]
  },
  {
   "cell_type": "code",
   "execution_count": null,
   "metadata": {
    "collapsed": false,
    "deletable": true,
    "editable": true
   },
   "outputs": [],
   "source": [
    "from urllib.request import urlretrieve\n",
    "\n",
    "# Define URL\n",
    "url = 'http://www.fil.ion.ucl.ac.uk/spm/download/data/attention/attention.zip'\n",
    "\n",
    "# Retrieve the data\n",
    "fn, info = urlretrieve(url, os.path.join(d, 'attention.zip'))"
   ]
  },
  {
   "cell_type": "markdown",
   "metadata": {
    "deletable": true,
    "editable": true
   },
   "source": [
    "And extract it from the `zip` file to our temporary directory:"
   ]
  },
  {
   "cell_type": "code",
   "execution_count": null,
   "metadata": {
    "collapsed": false,
    "deletable": true,
    "editable": true
   },
   "outputs": [],
   "source": [
    "import zipfile\n",
    "\n",
    "# Extract the contents into the temporary directory we created earlier\n",
    "zipfile.ZipFile(fn).extractall(path=d)"
   ]
  },
  {
   "cell_type": "markdown",
   "metadata": {
    "deletable": true,
    "editable": true
   },
   "source": [
    "If you look at the actually contents of the file, you'll find a bunch of '.hdr' and '.img' files."
   ]
  },
  {
   "cell_type": "code",
   "execution_count": null,
   "metadata": {
    "collapsed": false,
    "deletable": true,
    "editable": true
   },
   "outputs": [],
   "source": [
    "# List first 10 files\n",
    "[f.filename for f in zipfile.ZipFile(fn).filelist[:10]]"
   ]
  },
  {
   "cell_type": "code",
   "execution_count": null,
   "metadata": {
    "collapsed": false,
    "deletable": true,
    "editable": true
   },
   "outputs": [],
   "source": [
    "# List last 10 files\n",
    "[f.filename for f in zipfile.ZipFile(fn).filelist[-10:]]"
   ]
  },
  {
   "cell_type": "markdown",
   "metadata": {
    "deletable": true,
    "editable": true
   },
   "source": [
    "These are in the NIfTI file format, and we'll need a reader for them. Thankfully, the excellent `nibabel` library provides such a reader. Make sure you install it with either `conda install -c conda-forge nibabel` or `pip install nibabel`, and then:"
   ]
  },
  {
   "cell_type": "code",
   "execution_count": null,
   "metadata": {
    "collapsed": true,
    "deletable": true,
    "editable": true
   },
   "outputs": [],
   "source": [
    "import nibabel"
   ]
  },
  {
   "cell_type": "markdown",
   "metadata": {
    "deletable": true,
    "editable": true
   },
   "source": [
    "Now, we can finally read our image, and use the `.get_data()` method to get a NumPy array to view:"
   ]
  },
  {
   "cell_type": "code",
   "execution_count": null,
   "metadata": {
    "collapsed": true,
    "deletable": true,
    "editable": true
   },
   "outputs": [],
   "source": [
    "# Read the image \n",
    "struct = nibabel.load(os.path.join(d, 'attention/structural/nsM00587_0002.hdr'))\n",
    "\n",
    "# Get a plain NumPy array, without all the metadata\n",
    "struct_arr = struct.get_data()"
   ]
  },
  {
   "cell_type": "markdown",
   "metadata": {
    "deletable": true,
    "editable": true
   },
   "source": [
    "## ... Back to plotting"
   ]
  },
  {
   "cell_type": "markdown",
   "metadata": {
    "deletable": true,
    "editable": true
   },
   "source": [
    "Let's now look at a slice in that array:"
   ]
  },
  {
   "cell_type": "code",
   "execution_count": null,
   "metadata": {
    "collapsed": false,
    "deletable": true,
    "editable": true
   },
   "outputs": [],
   "source": [
    "plt.imshow(struct_arr[75])"
   ]
  },
  {
   "cell_type": "markdown",
   "metadata": {
    "deletable": true,
    "editable": true
   },
   "source": [
    "Whoa! That looks pretty squishy! That's because the resolution along the vertical axis in many MRIs is not the same as along the horizontal axes. We can fix that by passing the `aspect` parameter to the `imshow` function:"
   ]
  },
  {
   "cell_type": "code",
   "execution_count": null,
   "metadata": {
    "collapsed": false,
    "deletable": true,
    "editable": true
   },
   "outputs": [],
   "source": [
    "plt.imshow(struct_arr[75], aspect=0.5)"
   ]
  },
  {
   "cell_type": "markdown",
   "metadata": {
    "deletable": true,
    "editable": true
   },
   "source": [
    "But, to make things easier, we will just *transpose* the data and only look at the horizontal slices, which don't need such fiddling."
   ]
  },
  {
   "cell_type": "code",
   "execution_count": null,
   "metadata": {
    "collapsed": true,
    "deletable": true,
    "editable": true
   },
   "outputs": [],
   "source": [
    "struct_arr2 = struct_arr.T"
   ]
  },
  {
   "cell_type": "code",
   "execution_count": null,
   "metadata": {
    "collapsed": false,
    "deletable": true,
    "editable": true
   },
   "outputs": [],
   "source": [
    "plt.imshow(struct_arr2[34])"
   ]
  },
  {
   "cell_type": "markdown",
   "metadata": {
    "deletable": true,
    "editable": true
   },
   "source": [
    "Pretty! Of course, to then view another slice, or a slice along a different axis, we need another call to `imshow`:"
   ]
  },
  {
   "cell_type": "code",
   "execution_count": null,
   "metadata": {
    "collapsed": false,
    "deletable": true,
    "editable": true
   },
   "outputs": [],
   "source": [
    "plt.imshow(struct_arr2[5])"
   ]
  },
  {
   "cell_type": "markdown",
   "metadata": {
    "deletable": true,
    "editable": true
   },
   "source": [
    "All these calls get rather tedious rather quickly. For a long time, I would view 3D volumes using tools outside Python, such as [ITK-SNAP](). But, as it turns out, it's quite easy to add 3D \"scrolling\" capabilities to the matplotlib viewer! This lets us explore 3D data within Python, minimizing the need to switch contexts between data exploration and data analysis.\n",
    "\n",
    "The key is to use the matplotlib [event handler API](), which lets us define actions to perform on the plot — including changing the plot's data! — in response to particular key presses or mouse button clicks.\n",
    "\n",
    "In our case, let's bind the J and K keys on the keyboard to \"previous slice\" and \"next slice\":"
   ]
  },
  {
   "cell_type": "code",
   "execution_count": null,
   "metadata": {
    "collapsed": true,
    "deletable": true,
    "editable": true
   },
   "outputs": [],
   "source": [
    "# Go to the previous slice \n",
    "def previous_slice():\n",
    "    pass\n",
    "\n",
    "# Go to the next slice\n",
    "def next_slice():\n",
    "    pass\n",
    "\n",
    "# Process keyboard presses \n",
    "def process_key(event):\n",
    "    if event.key == 'j':\n",
    "        previous_slice()\n",
    "    elif event.key == 'k':\n",
    "        next_slice()"
   ]
  },
  {
   "cell_type": "markdown",
   "metadata": {
    "deletable": true,
    "editable": true
   },
   "source": [
    "Simple enough! Of course, we need to figure out how to actually implement these actions *and* we need to tell the figure that it should use the `process_key` function to process keyboard presses! The latter is simple: we just need to use the figure canvas method `mpl_connect`:\n",
    "\n",
    "    fig, ax = plt.subplots()\n",
    "    ax.imshow(struct_arr[..., 43])\n",
    "    fig.canvas.mpl_connect('key_press_event', process_key)\n",
    "\n",
    "You can find the full documentation for `mpl_connect` [here](http://matplotlib.org/users/event_handling.html), including what other kinds of events you can bind (such as mouse button clicks).\n",
    "\n",
    "It took me just a bit of exploring to find out that `imshow` returns an `AxesImage` object, which lives \"inside\" the matplotlib `Axes` object where all the drawing takes place, in its `.images` attribute. And this object provides a convenient `set_array` method that swaps out the image data being displayed! So, all we need to do is:\n",
    "\n",
    "- plot an arbitrary index, and store that index, maybe as an additional runtime attribute on the `Axes` object.\n",
    "- provide functions `next_slice` and `previous_slice` that change the index and uses `set_array` to set the corresponding slice of the 3D volume.\n",
    "- use the figure canvas `draw` method to redraw the figure with the new data."
   ]
  },
  {
   "cell_type": "code",
   "execution_count": null,
   "metadata": {
    "collapsed": true,
    "deletable": true,
    "editable": true
   },
   "outputs": [],
   "source": [
    "# Bind keyboard presses to Figure canvas\n",
    "def multi_slice_viewer(volume):\n",
    "    fig, ax = plt.subplots()\n",
    "    ax.volume = volume\n",
    "    ax.index = volume.shape[0] // 2\n",
    "    ax.imshow(volume[ax.index])\n",
    "    fig.canvas.mpl_connect('key_press_event', process_key)\n",
    "\n",
    "def process_key(event):\n",
    "    fig = event.canvas.figure\n",
    "    ax = fig.axes[0]\n",
    "    if event.key == 'j':\n",
    "        previous_slice(ax)\n",
    "    elif event.key == 'k':\n",
    "        next_slice(ax)\n",
    "    fig.canvas.draw()\n",
    "\n",
    "def previous_slice(ax):\n",
    "    \"\"\"Go to the previous slice.\"\"\"\n",
    "    volume = ax.volume\n",
    "    ax.index = (ax.index - 1) % volume.shape[0]  # wrap around using %\n",
    "    ax.images[0].set_array(volume[ax.index])\n",
    "\n",
    "def next_slice(ax):\n",
    "    \"\"\"Go to the next slice.\"\"\"\n",
    "    volume = ax.volume\n",
    "    ax.index = (ax.index + 1) % volume.shape[0]\n",
    "    ax.images[0].set_array(volume[ax.index])"
   ]
  },
  {
   "cell_type": "markdown",
   "metadata": {
    "deletable": true,
    "editable": true
   },
   "source": [
    "Let's try it out!"
   ]
  },
  {
   "cell_type": "code",
   "execution_count": null,
   "metadata": {
    "collapsed": false,
    "deletable": true,
    "editable": true
   },
   "outputs": [],
   "source": [
    "multi_slice_viewer(struct_arr2)"
   ]
  },
  {
   "cell_type": "markdown",
   "metadata": {
    "deletable": true,
    "editable": true
   },
   "source": [
    "This works! Nice! But, if you try this out at home, you'll notice that scrolling up with K also squishes the horizontal scale of the plot. Huh?"
   ]
  },
  {
   "cell_type": "code",
   "execution_count": null,
   "metadata": {
    "collapsed": false,
    "deletable": true,
    "editable": true
   },
   "outputs": [],
   "source": [
    "multi_slice_viewer(struct_arr2)"
   ]
  },
  {
   "cell_type": "markdown",
   "metadata": {
    "deletable": true,
    "editable": true
   },
   "source": [
    "What's happening is that adding event handlers to Matplotlib simply piles them on on top of each other. In this case, K is a built-in keyboard shortcut to change the x-axis to use a logarithmic scale. If we want to use K exclusively, we have to remove it from matplotlib's default key maps. These live as lists in the `plt.rcParams` dictionary, which is matplotlib's repository for default system-wide settings:\n",
    "\n",
    "    plt.rcParams['keymap.<command>'] = ['<key1>', '<key2>']\n",
    "\n",
    "where pressing any of the keys in the list (i.e. `<key1>` or `<key2>`) will cause `<command>` to be executed.\n",
    "\n",
    "Thus, we'll need to write a helper function to remove keys that we want to use wherever they may appear in this dictionary. (This function doesn't yet exist in matplotlib, but would probably be a welcome contribution!)"
   ]
  },
  {
   "cell_type": "code",
   "execution_count": null,
   "metadata": {
    "collapsed": true,
    "deletable": true,
    "editable": true
   },
   "outputs": [],
   "source": [
    "def remove_keymap_conflicts(new_keys_set):\n",
    "    for prop in plt.rcParams:\n",
    "        if prop.startswith('keymap.'):\n",
    "            keys = plt.rcParams[prop]\n",
    "            remove_list = set(keys) & new_keys_set\n",
    "            for key in remove_list:\n",
    "                keys.remove(key)"
   ]
  },
  {
   "cell_type": "markdown",
   "metadata": {
    "deletable": true,
    "editable": true
   },
   "source": [
    "## A fully functional slice viewer\n",
    "\n",
    "Ok, let's rewrite our function to make use of this new tool:"
   ]
  },
  {
   "cell_type": "code",
   "execution_count": null,
   "metadata": {
    "collapsed": true,
    "deletable": true,
    "editable": true
   },
   "outputs": [],
   "source": [
    "# Tie keyboard presses to Figure \n",
    "def multi_slice_viewer(volume):\n",
    "    remove_keymap_conflicts({'j', 'k'})\n",
    "    fig, ax = plt.subplots()\n",
    "    ax.volume = volume\n",
    "    ax.index = volume.shape[0] // 2\n",
    "    ax.imshow(volume[ax.index])\n",
    "    fig.canvas.mpl_connect('key_press_event', process_key)\n",
    "\n",
    "# Process keyboard presses\n",
    "def process_key(event):\n",
    "    fig = event.canvas.figure\n",
    "    ax = fig.axes[0]\n",
    "    if event.key == 'j':\n",
    "        previous_slice(ax)\n",
    "    elif event.key == 'k':\n",
    "        next_slice(ax)\n",
    "    fig.canvas.draw()\n",
    "\n",
    "# Go to the previous slice\n",
    "def previous_slice(ax):\n",
    "    volume = ax.volume\n",
    "    ax.index = (ax.index - 1) % volume.shape[0]  # wrap around using %\n",
    "    ax.images[0].set_array(volume[ax.index])\n",
    "\n",
    "# Go to the next slice\n",
    "def next_slice(ax):\n",
    "    volume = ax.volume\n",
    "    ax.index = (ax.index + 1) % volume.shape[0]\n",
    "    ax.images[0].set_array(volume[ax.index])"
   ]
  },
  {
   "cell_type": "markdown",
   "metadata": {
    "deletable": true,
    "editable": true
   },
   "source": [
    "Now, we should be able to view all the slices in our MRI volume without pesky interference from the default keymap!"
   ]
  },
  {
   "cell_type": "code",
   "execution_count": null,
   "metadata": {
    "collapsed": false,
    "deletable": true,
    "editable": true
   },
   "outputs": [],
   "source": [
    "multi_slice_viewer(struct_arr2)"
   ]
  },
  {
   "cell_type": "markdown",
   "metadata": {
    "deletable": true,
    "editable": true
   },
   "source": [
    "One nice feature about this method is that it works on *any* matplotlib backend! So, if you try this out in the IPython terminal console, you will still get the same interaction as you did in the browser! And the same is true for a Qt or Tkinter app embedding a matplotlib plot. This simple tool therefore lets you build ever more complex applications around matplotlib's visualisation capabilities."
   ]
  },
  {
   "cell_type": "markdown",
   "metadata": {
    "deletable": true,
    "editable": true
   },
   "source": [
    "## Before you go..."
   ]
  },
  {
   "cell_type": "markdown",
   "metadata": {
    "deletable": true,
    "editable": true
   },
   "source": [
    "Let's not forget to clean up after ourselves, and delete the temporary directory (if you made one):"
   ]
  },
  {
   "cell_type": "code",
   "execution_count": null,
   "metadata": {
    "collapsed": true,
    "deletable": true,
    "editable": true
   },
   "outputs": [],
   "source": [
    "# Import shutil\n",
    "import shutil\n",
    "\n",
    "# Remove the temporary directory\n",
    "shutil.rmtree(d)"
   ]
  },
  {
   "cell_type": "markdown",
   "metadata": {
    "deletable": true,
    "editable": true
   },
   "source": [
    "## Conclusion\n",
    "\n",
    "Congrats! It has been quite a journey, but you have made it to the end of this Matplotlib tutorial!\n",
    "\n",
    "Make sure to stay tuned for the second post of this series, in which you'll learn more on scaling subplots, crosshairs that show where each plot is sliced, and mouse interactivity. \n",
    "\n",
    "*If you want to know more about data visualization in Python, consider taking DataCamp's [Introduction to Data Visualization in Python](https://www.datacamp.com/courses/introduction-to-data-visualization-with-python) course.*"
   ]
  },
  {
   "cell_type": "code",
   "execution_count": null,
   "metadata": {
    "collapsed": true,
    "deletable": true,
    "editable": true
   },
   "outputs": [],
   "source": []
  }
 ],
 "metadata": {
  "kernelspec": {
   "display_name": "Python 3",
   "language": "python",
   "name": "python3"
  },
  "language_info": {
   "codemirror_mode": {
    "name": "ipython",
    "version": 3
   },
   "file_extension": ".py",
   "mimetype": "text/x-python",
   "name": "python",
   "nbconvert_exporter": "python",
   "pygments_lexer": "ipython3",
   "version": "3.6.0"
  }
 },
 "nbformat": 4,
 "nbformat_minor": 2
}
